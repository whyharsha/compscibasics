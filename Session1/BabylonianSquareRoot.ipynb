{
 "cells": [
  {
   "cell_type": "code",
   "execution_count": 5,
   "metadata": {},
   "outputs": [],
   "source": [
    "def square_root(inputNumber, guess):\n",
    "    if(inputNumber < 0):\n",
    "        raise ValueError\n",
    "    \n",
    "    if (inputNumber == 0):\n",
    "        print(\"The square root is: 0\")\n",
    "        return\n",
    "    \n",
    "    lowerBound = inputNumber - 0.0001\n",
    "    upperBound = inputNumber + 0.0001\n",
    "    \n",
    "    estimate = guess * guess\n",
    "    \n",
    "    if(estimate >=  lowerBound and estimate <= upperBound):\n",
    "        print(\"The square root is: \" + str(round(guess,4)))\n",
    "    else:\n",
    "        if(guess == 0):\n",
    "            raise ValueError\n",
    "            \n",
    "        newGuess = (guess + (inputNumber/guess))/2\n",
    "        \n",
    "        square_root(inputNumber, newGuess)"
   ]
  },
  {
   "cell_type": "code",
   "execution_count": 6,
   "metadata": {},
   "outputs": [],
   "source": [
    "def square_root_while(inputNumber):\n",
    "    if(inputNumber < 0):\n",
    "        raise ValueError\n",
    "    \n",
    "    if (inputNumber == 0):\n",
    "        print(\"The square root is: 0\")\n",
    "        return\n",
    "    \n",
    "    lowerBound = inputNumber - 0.0001\n",
    "    upperBound = inputNumber + 0.0001\n",
    "    \n",
    "    seed = inputNumber / 2\n",
    "    estimate = seed * seed\n",
    "    \n",
    "    while not (estimate >=  lowerBound and estimate <= upperBound):\n",
    "        seed = (seed + (inputNumber/seed))/2\n",
    "        estimate = seed * seed\n",
    "    \n",
    "    print(\"The square root is: \" + str(round(seed, 4)))"
   ]
  },
  {
   "cell_type": "code",
   "execution_count": 7,
   "metadata": {},
   "outputs": [
    {
     "name": "stdout",
     "output_type": "stream",
     "text": [
      "The square root is: 15.0\n"
     ]
    }
   ],
   "source": [
    "square_root_while(225)"
   ]
  },
  {
   "cell_type": "code",
   "execution_count": 8,
   "metadata": {},
   "outputs": [
    {
     "name": "stdout",
     "output_type": "stream",
     "text": [
      "The square root is: 2.2361\n"
     ]
    }
   ],
   "source": [
    "square_root_while(5)"
   ]
  },
  {
   "cell_type": "code",
   "execution_count": 9,
   "metadata": {},
   "outputs": [
    {
     "name": "stdout",
     "output_type": "stream",
     "text": [
      "The square root is: 18.7617\n"
     ]
    }
   ],
   "source": [
    "square_root(352, 50)"
   ]
  },
  {
   "cell_type": "code",
   "execution_count": null,
   "metadata": {},
   "outputs": [],
   "source": []
  }
 ],
 "metadata": {
  "kernelspec": {
   "display_name": "Python 3",
   "language": "python",
   "name": "python3"
  },
  "language_info": {
   "codemirror_mode": {
    "name": "ipython",
    "version": 3
   },
   "file_extension": ".py",
   "mimetype": "text/x-python",
   "name": "python",
   "nbconvert_exporter": "python",
   "pygments_lexer": "ipython3",
   "version": "3.7.6"
  }
 },
 "nbformat": 4,
 "nbformat_minor": 4
}
