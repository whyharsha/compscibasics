{
 "cells": [
  {
   "cell_type": "markdown",
   "metadata": {},
   "source": [
    "# Hangman"
   ]
  },
  {
   "cell_type": "markdown",
   "metadata": {},
   "source": [
    "# Helper Functions"
   ]
  },
  {
   "cell_type": "code",
   "execution_count": 29,
   "metadata": {},
   "outputs": [],
   "source": [
    "def checkIfLetterExists(char, listofLetters):\n",
    "    for var in listofLetters:\n",
    "        if (char == var):\n",
    "            return true\n",
    "    \n",
    "    return false\n",
    "\n",
    "def isWordGuessed(secretWord, lettersGuessed):\n",
    "    if (len(secretWord) <= 0 or len(lettersGuessed) <= 0):\n",
    "        raise ValueError\n",
    "    \n",
    "    guessedWord = \"\"\n",
    "    \n",
    "    #case sensitive check\n",
    "    for char in secretWord:\n",
    "        if(checkIfLetterExists(char, lettersGuessed)):\n",
    "            guessedWord = guessedWord + char\n",
    "        else:\n",
    "            guessedWord = guessedWord + \"_ \"\n",
    "    \n",
    "    if(secretWord == guessedWord):\n",
    "        return true\n",
    "        \n",
    "    return false"
   ]
  },
  {
   "cell_type": "code",
   "execution_count": 30,
   "metadata": {},
   "outputs": [],
   "source": [
    "def getGuessedWord(secretWord, lettersGuessed):\n",
    "    if (len(secretWord) <= 0 or len(lettersGuessed) <= 0):\n",
    "        raise ValueError\n",
    "    \n",
    "    guessedWord = \"\"\n",
    "    \n",
    "    #case sensitive check\n",
    "    for char in secretWord:\n",
    "        if(checkIfLetterExists(char, lettersGuessed)):\n",
    "            guessedWord = guessedWord + char\n",
    "        else:\n",
    "            guessedWord = guessedWord + \"_ \"\n",
    "    \n",
    "    return guessedWord"
   ]
  },
  {
   "cell_type": "code",
   "execution_count": 31,
   "metadata": {},
   "outputs": [],
   "source": [
    "import string\n",
    "\n",
    "def getAvailableLetters(lettersGuessed):\n",
    "    if (len(lettersGuessed) <= 0):\n",
    "        return string.ascii_lowercase\n",
    "    \n",
    "    alphabet = string.ascii_lowercase\n",
    "    \n",
    "    for char in lettersGuessed:\n",
    "        \n",
    "        index = 0\n",
    "        for var in alphabet:\n",
    "            if (char == var):\n",
    "                alphabet = alphabet[0:index] + alphabet[(index + 1): len(alphabet)]\n",
    "                print(\"Current string is: \" + alphabet)\n",
    "                break\n",
    "            index = index + 1\n",
    "        \n",
    "    return alphabet\n",
    "        "
   ]
  },
  {
   "cell_type": "code",
   "execution_count": 32,
   "metadata": {
    "scrolled": true
   },
   "outputs": [
    {
     "name": "stdout",
     "output_type": "stream",
     "text": [
      "Current string is: abcdfghijklmnopqrstuvwxyz\n",
      "Current string is: abcdfghjklmnopqrstuvwxyz\n",
      "Current string is: abcdfghjlmnopqrstuvwxyz\n",
      "Current string is: abcdfghjlmnoqrstuvwxyz\n",
      "Current string is: abcdfghjlmnoqstuvwxyz\n",
      "Current string is: abcdfghjlmnoqtuvwxyz\n"
     ]
    },
    {
     "data": {
      "text/plain": [
       "'abcdfghjlmnoqtuvwxyz'"
      ]
     },
     "execution_count": 32,
     "metadata": {},
     "output_type": "execute_result"
    }
   ],
   "source": [
    "lettersGuessed = ['e', 'i', 'k', 'p', 'r', 's']\n",
    "getAvailableLetters(lettersGuessed)"
   ]
  },
  {
   "cell_type": "markdown",
   "metadata": {},
   "source": [
    "# The Game"
   ]
  },
  {
   "cell_type": "code",
   "execution_count": 33,
   "metadata": {},
   "outputs": [],
   "source": [
    "def hangman(secretWord):\n",
    "    print(\"Loaded words from the list.\")\n",
    "    print(\"Welcome to Hangman!\")\n",
    "    \n",
    "    numberOfGuesses = 6\n",
    "    lettersGuessed = \"\"\n",
    "    availableLetters = getAvailableLetters(\"\")\n",
    "    \n",
    "    while (numberOfGuesses > 0):\n",
    "        \n",
    "        invalidInput = true\n",
    "        \n",
    "        while (invalidInput):\n",
    "            print(\"You have \" + str(numberOfGuesses) + \" guesses remaining.\")\n",
    "            print(\"Pick from one of these: \" + availableLetters)\n",
    "            userInput = input(\"Take a guess: \")\n",
    "            \n",
    "            if(len(userInput) == 1):\n",
    "                invalidInput = false\n",
    "            \n",
    "            for char in userInput:\n",
    "                for var in string.ascii_lowercase:\n",
    "                    if char == var:\n",
    "                        invalidInput = false\n",
    "                        break\n",
    "        \n",
    "        lettersGuessed = lettersGuessed + userInput\n",
    "        \n",
    "        if(isWordGuessed(secretWord, lettersGuessed)):\n",
    "            print(\"You, winner, you! You guessed \" + getGuessedWord(secretWord, lettersGuessed) + \" correctly!\")\n",
    "            break\n",
    "        \n",
    "        print(\"You've guessed \" + getGuessedWord(secretWord, lettersGuessed) + \" so far.\")\n",
    "        availableLetters = getAvailableLetters(guessedWord)\n",
    "        numberOfGuesses = numberOfGuesses - 1\n",
    "    \n",
    "    if(numberOfGuesses == 0):\n",
    "        print(\"Try your luck again!\")\n",
    "        \n",
    "        "
   ]
  },
  {
   "cell_type": "code",
   "execution_count": null,
   "metadata": {},
   "outputs": [],
   "source": []
  }
 ],
 "metadata": {
  "kernelspec": {
   "display_name": "Python 3",
   "language": "python",
   "name": "python3"
  },
  "language_info": {
   "codemirror_mode": {
    "name": "ipython",
    "version": 3
   },
   "file_extension": ".py",
   "mimetype": "text/x-python",
   "name": "python",
   "nbconvert_exporter": "python",
   "pygments_lexer": "ipython3",
   "version": "3.7.6"
  }
 },
 "nbformat": 4,
 "nbformat_minor": 4
}
