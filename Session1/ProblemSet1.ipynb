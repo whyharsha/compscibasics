{
 "cells": [
  {
   "cell_type": "markdown",
   "metadata": {},
   "source": [
    "# House Hunting"
   ]
  },
  {
   "cell_type": "code",
   "execution_count": 4,
   "metadata": {},
   "outputs": [],
   "source": [
    "def calculateTime(annualSalary, portionSaved, costofPurchase):\n",
    "    if(annualSalary < 0.0 or portionSaved < 0.0 or costofPurchase < 0.0):\n",
    "        raise ValueError\n",
    "    \n",
    "    if((annualSalary == 0.0 or portionSaved == 0.0) and costofPurchase > 0.0):\n",
    "        raise ValueError\n",
    "    \n",
    "    portionDownPayment = 0.25 * costofPurchase\n",
    "    currentSavings = 0.0\n",
    "    rateofInterest = 0.04\n",
    "    \n",
    "    numberOfMonths = 0\n",
    "    \n",
    "    while (currentSavings < portionDownPayment):\n",
    "        currentSavings = currentSavings + (((currentSavings * rateofInterest) + (portionSaved * annualSalary))/12)\n",
    "        numberOfMonths = numberOfMonths + 1\n",
    "    \n",
    "    print(\"The number of months of savings needed: \" + str(numberOfMonths))\n",
    "    return numberOfMonths\n"
   ]
  },
  {
   "cell_type": "code",
   "execution_count": 5,
   "metadata": {},
   "outputs": [
    {
     "ename": "ValueError",
     "evalue": "",
     "output_type": "error",
     "traceback": [
      "\u001b[0;31m---------------------------------------------------------------------------\u001b[0m",
      "\u001b[0;31mValueError\u001b[0m                                Traceback (most recent call last)",
      "\u001b[0;32m<ipython-input-5-f53a988fbe79>\u001b[0m in \u001b[0;36m<module>\u001b[0;34m\u001b[0m\n\u001b[0;32m----> 1\u001b[0;31m \u001b[0mcalculateTime\u001b[0m\u001b[0;34m(\u001b[0m\u001b[0;36m0\u001b[0m\u001b[0;34m,\u001b[0m \u001b[0;34m-\u001b[0m\u001b[0;36m0.09\u001b[0m\u001b[0;34m,\u001b[0m \u001b[0;36m100000\u001b[0m\u001b[0;34m)\u001b[0m\u001b[0;34m\u001b[0m\u001b[0;34m\u001b[0m\u001b[0m\n\u001b[0m",
      "\u001b[0;32m<ipython-input-4-eca2345eed06>\u001b[0m in \u001b[0;36mcalculateTime\u001b[0;34m(annualSalary, portionSaved, costofPurchase)\u001b[0m\n\u001b[1;32m      1\u001b[0m \u001b[0;32mdef\u001b[0m \u001b[0mcalculateTime\u001b[0m\u001b[0;34m(\u001b[0m\u001b[0mannualSalary\u001b[0m\u001b[0;34m,\u001b[0m \u001b[0mportionSaved\u001b[0m\u001b[0;34m,\u001b[0m \u001b[0mcostofPurchase\u001b[0m\u001b[0;34m)\u001b[0m\u001b[0;34m:\u001b[0m\u001b[0;34m\u001b[0m\u001b[0;34m\u001b[0m\u001b[0m\n\u001b[1;32m      2\u001b[0m     \u001b[0;32mif\u001b[0m\u001b[0;34m(\u001b[0m\u001b[0mannualSalary\u001b[0m \u001b[0;34m<\u001b[0m \u001b[0;36m0.0\u001b[0m \u001b[0;32mor\u001b[0m \u001b[0mportionSaved\u001b[0m \u001b[0;34m<\u001b[0m \u001b[0;36m0.0\u001b[0m \u001b[0;32mor\u001b[0m \u001b[0mcostofPurchase\u001b[0m \u001b[0;34m<\u001b[0m \u001b[0;36m0.0\u001b[0m\u001b[0;34m)\u001b[0m\u001b[0;34m:\u001b[0m\u001b[0;34m\u001b[0m\u001b[0;34m\u001b[0m\u001b[0m\n\u001b[0;32m----> 3\u001b[0;31m         \u001b[0;32mraise\u001b[0m \u001b[0mValueError\u001b[0m\u001b[0;34m\u001b[0m\u001b[0;34m\u001b[0m\u001b[0m\n\u001b[0m\u001b[1;32m      4\u001b[0m \u001b[0;34m\u001b[0m\u001b[0m\n\u001b[1;32m      5\u001b[0m     \u001b[0;32mif\u001b[0m\u001b[0;34m(\u001b[0m\u001b[0;34m(\u001b[0m\u001b[0mannualSalary\u001b[0m \u001b[0;34m==\u001b[0m \u001b[0;36m0.0\u001b[0m \u001b[0;32mor\u001b[0m \u001b[0mportionSaved\u001b[0m \u001b[0;34m==\u001b[0m \u001b[0;36m0.0\u001b[0m\u001b[0;34m)\u001b[0m \u001b[0;32mand\u001b[0m \u001b[0mcostofPurchase\u001b[0m \u001b[0;34m>\u001b[0m \u001b[0;36m0.0\u001b[0m\u001b[0;34m)\u001b[0m\u001b[0;34m:\u001b[0m\u001b[0;34m\u001b[0m\u001b[0;34m\u001b[0m\u001b[0m\n",
      "\u001b[0;31mValueError\u001b[0m: "
     ]
    }
   ],
   "source": [
    "calculateTime(0, -0.09, 100000)"
   ]
  },
  {
   "cell_type": "code",
   "execution_count": 6,
   "metadata": {},
   "outputs": [
    {
     "ename": "ValueError",
     "evalue": "",
     "output_type": "error",
     "traceback": [
      "\u001b[0;31m---------------------------------------------------------------------------\u001b[0m",
      "\u001b[0;31mValueError\u001b[0m                                Traceback (most recent call last)",
      "\u001b[0;32m<ipython-input-6-1556b7f651c8>\u001b[0m in \u001b[0;36m<module>\u001b[0;34m\u001b[0m\n\u001b[0;32m----> 1\u001b[0;31m \u001b[0mcalculateTime\u001b[0m\u001b[0;34m(\u001b[0m\u001b[0;36m0\u001b[0m\u001b[0;34m,\u001b[0m \u001b[0;36m0.3\u001b[0m\u001b[0;34m,\u001b[0m \u001b[0;36m200000\u001b[0m\u001b[0;34m)\u001b[0m\u001b[0;34m\u001b[0m\u001b[0;34m\u001b[0m\u001b[0m\n\u001b[0m",
      "\u001b[0;32m<ipython-input-4-eca2345eed06>\u001b[0m in \u001b[0;36mcalculateTime\u001b[0;34m(annualSalary, portionSaved, costofPurchase)\u001b[0m\n\u001b[1;32m      4\u001b[0m \u001b[0;34m\u001b[0m\u001b[0m\n\u001b[1;32m      5\u001b[0m     \u001b[0;32mif\u001b[0m\u001b[0;34m(\u001b[0m\u001b[0;34m(\u001b[0m\u001b[0mannualSalary\u001b[0m \u001b[0;34m==\u001b[0m \u001b[0;36m0.0\u001b[0m \u001b[0;32mor\u001b[0m \u001b[0mportionSaved\u001b[0m \u001b[0;34m==\u001b[0m \u001b[0;36m0.0\u001b[0m\u001b[0;34m)\u001b[0m \u001b[0;32mand\u001b[0m \u001b[0mcostofPurchase\u001b[0m \u001b[0;34m>\u001b[0m \u001b[0;36m0.0\u001b[0m\u001b[0;34m)\u001b[0m\u001b[0;34m:\u001b[0m\u001b[0;34m\u001b[0m\u001b[0;34m\u001b[0m\u001b[0m\n\u001b[0;32m----> 6\u001b[0;31m         \u001b[0;32mraise\u001b[0m \u001b[0mValueError\u001b[0m\u001b[0;34m\u001b[0m\u001b[0;34m\u001b[0m\u001b[0m\n\u001b[0m\u001b[1;32m      7\u001b[0m \u001b[0;34m\u001b[0m\u001b[0m\n\u001b[1;32m      8\u001b[0m     \u001b[0mportionDownPayment\u001b[0m \u001b[0;34m=\u001b[0m \u001b[0;36m0.25\u001b[0m \u001b[0;34m*\u001b[0m \u001b[0mcostofPurchase\u001b[0m\u001b[0;34m\u001b[0m\u001b[0;34m\u001b[0m\u001b[0m\n",
      "\u001b[0;31mValueError\u001b[0m: "
     ]
    }
   ],
   "source": [
    "calculateTime(0, 0.3, 200000)"
   ]
  },
  {
   "cell_type": "code",
   "execution_count": 7,
   "metadata": {},
   "outputs": [
    {
     "name": "stdout",
     "output_type": "stream",
     "text": [
      "The number of months of savings needed: 260\n"
     ]
    },
    {
     "data": {
      "text/plain": [
       "260"
      ]
     },
     "execution_count": 7,
     "metadata": {},
     "output_type": "execute_result"
    }
   ],
   "source": [
    "calculateTime(100000, 0.2, 2750000)"
   ]
  },
  {
   "cell_type": "markdown",
   "metadata": {},
   "source": [
    "# Saving, with a raise"
   ]
  },
  {
   "cell_type": "code",
   "execution_count": 8,
   "metadata": {},
   "outputs": [],
   "source": [
    "def calculateTimeRaise(annualSalary, semiAnnualRaise, portionSaved, costofPurchase):\n",
    "    if(annualSalary < 0.0 or semiAnnualRaise < 0.0 or portionSaved < 0.0 or costofPurchase < 0.0):\n",
    "        raise ValueError\n",
    "    \n",
    "    if((annualSalary == 0.0 or portionSaved == 0.0) and costofPurchase > 0.0):\n",
    "        raise ValueError\n",
    "    \n",
    "    portionDownPayment = 0.25 * costofPurchase\n",
    "    currentSavings = 0.0\n",
    "    rateofInterest = 0.04\n",
    "    \n",
    "    numberOfMonths = 0\n",
    "    \n",
    "    while (currentSavings < portionDownPayment):\n",
    "        currentSavings = currentSavings + (((currentSavings * rateofInterest) + (portionSaved * annualSalary))/12)\n",
    "        numberOfMonths = numberOfMonths + 1\n",
    "        \n",
    "        if(numberOfMonths % 6 == 0):\n",
    "            annualSalary = annualSalary + (annualSalary * semiAnnualRaise)\n",
    "    \n",
    "    print(\"The number of months of savings needed: \" + str(numberOfMonths))\n",
    "    return numberOfMonths"
   ]
  },
  {
   "cell_type": "markdown",
   "metadata": {},
   "source": [
    "# Saving the right amount"
   ]
  },
  {
   "cell_type": "code",
   "execution_count": 32,
   "metadata": {},
   "outputs": [],
   "source": [
    "def calculateSavingsRate(annualSalary, semiAnnualRaise, costofPurchase):\n",
    "    if(annualSalary < 0.0 or semiAnnualRaise < 0.0 or costofPurchase < 0.0):\n",
    "        raise ValueError\n",
    "    \n",
    "    numberOfStepsToCompute = 0\n",
    "    \n",
    "    portionDownPayment = 0.25 * costofPurchase\n",
    "    currentSavings = 0.0\n",
    "    monthlyRate = 0.04 / 12\n",
    "    \n",
    "    savingsRate = 0.5\n",
    "    upperBound = 1.0\n",
    "    lowerBound = 0.0\n",
    "    tolerance = 100.0\n",
    "    tempAnnualSalary = annualSalary\n",
    "    \n",
    "    while (abs(currentSavings - portionDownPayment) >= tolerance):\n",
    "        \n",
    "        currentSavings = 0.0\n",
    "        annualSalary = tempAnnualSalary\n",
    "        \n",
    "        for month in range(0, 35):\n",
    "            monthlyIncome = annualSalary / 12\n",
    "            currentSavings = currentSavings + (currentSavings * monthlyRate) + (savingsRate * monthlyIncome)\n",
    "        \n",
    "            if(month % 6 == 0 and month > 0):\n",
    "                annualSalary = annualSalary * (1.0 + semiAnnualRaise)\n",
    "        \n",
    "        if(currentSavings < portionDownPayment):\n",
    "            lowerBound = savingsRate\n",
    "        elif(currentSavings > portionDownPayment):\n",
    "            upperBound = savingsRate\n",
    "        \n",
    "        savingsRate = (lowerBound + upperBound) / 2\n",
    "        \n",
    "        if(numberOfStepsToCompute > 100):\n",
    "            print(\"We cannot accomplish this feat. We have failed thusly.\")\n",
    "            break\n",
    "            \n",
    "        numberOfStepsToCompute = numberOfStepsToCompute + 1\n",
    "        \n",
    "    \n",
    "    print(\"The ideal savings rate is: \" + str(savingsRate))\n",
    "    print(\"The number of steps to compute the value was: \" + str(numberOfStepsToCompute))\n",
    "        "
   ]
  },
  {
   "cell_type": "code",
   "execution_count": 33,
   "metadata": {},
   "outputs": [
    {
     "name": "stdout",
     "output_type": "stream",
     "text": [
      "The ideal savings rate is: 0.4610595703125\n",
      "The number of steps to compute the value was: 12\n"
     ]
    }
   ],
   "source": [
    "calculateSavingsRate(150000, 0.07, 1000000)"
   ]
  },
  {
   "cell_type": "code",
   "execution_count": null,
   "metadata": {},
   "outputs": [],
   "source": []
  }
 ],
 "metadata": {
  "kernelspec": {
   "display_name": "Python 3",
   "language": "python",
   "name": "python3"
  },
  "language_info": {
   "codemirror_mode": {
    "name": "ipython",
    "version": 3
   },
   "file_extension": ".py",
   "mimetype": "text/x-python",
   "name": "python",
   "nbconvert_exporter": "python",
   "pygments_lexer": "ipython3",
   "version": "3.7.6"
  }
 },
 "nbformat": 4,
 "nbformat_minor": 4
}
